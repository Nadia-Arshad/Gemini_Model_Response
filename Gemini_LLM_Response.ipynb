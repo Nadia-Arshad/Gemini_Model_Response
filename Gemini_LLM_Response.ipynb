{
  "nbformat": 4,
  "nbformat_minor": 0,
  "metadata": {
    "colab": {
      "provenance": []
    },
    "kernelspec": {
      "name": "python3",
      "display_name": "Python 3"
    },
    "language_info": {
      "name": "python"
    }
  },
  "cells": [
    {
      "cell_type": "markdown",
      "source": [
        "Installing google-generativeai SDK"
      ],
      "metadata": {
        "id": "RjwSBcY1usDI"
      }
    },
    {
      "cell_type": "code",
      "execution_count": 21,
      "metadata": {
        "collapsed": true,
        "id": "dTuCHcoKhydT"
      },
      "outputs": [],
      "source": [
        "!pip install -U -q google-generativeai"
      ]
    },
    {
      "cell_type": "markdown",
      "source": [
        "Now importing google.generativeai with a nickname/alias \"genai\""
      ],
      "metadata": {
        "id": "Dt29p_Yhu1lm"
      }
    },
    {
      "cell_type": "code",
      "source": [
        "import google.generativeai as genai"
      ],
      "metadata": {
        "id": "CzotD0Hfl7by"
      },
      "execution_count": 22,
      "outputs": []
    },
    {
      "cell_type": "markdown",
      "source": [
        "We're accessing Gemini Key that we fetched from Google AI Studio.\n",
        "Then we configured it using configure method with genai (SDK)"
      ],
      "metadata": {
        "id": "dfcQGTxhu-Ur"
      }
    },
    {
      "cell_type": "code",
      "source": [
        "from google.colab import userdata\n",
        "GEMINI_KEY = userdata.get('NEW_GOOGLE_KEY')\n",
        "genai.configure(api_key = GEMINI_KEY)"
      ],
      "metadata": {
        "id": "qyI06cXqnLJR"
      },
      "execution_count": 23,
      "outputs": []
    },
    {
      "cell_type": "markdown",
      "source": [
        "Now in our variable \"model\" we are storing our desired model using GenerativeModel method with genai (SDK)"
      ],
      "metadata": {
        "id": "9erte1ekvLJq"
      }
    },
    {
      "cell_type": "code",
      "source": [
        "model = genai.GenerativeModel(\"gemini-2.0-flash-exp\")"
      ],
      "metadata": {
        "id": "wqzPq-Kwncuk"
      },
      "execution_count": 24,
      "outputs": []
    },
    {
      "cell_type": "markdown",
      "source": [
        "Now we're storing our model's response in the variable \"response\" by using generate_content method and passing our prompt as an attribute."
      ],
      "metadata": {
        "id": "ts06-IUdvcig"
      }
    },
    {
      "cell_type": "code",
      "source": [
        "response = model.generate_content(\"What is life?\")"
      ],
      "metadata": {
        "id": "U1fMCnLGny6r"
      },
      "execution_count": 25,
      "outputs": []
    },
    {
      "cell_type": "markdown",
      "source": [
        "Now we are printing our response."
      ],
      "metadata": {
        "id": "pibAlyl5vp7g"
      }
    },
    {
      "cell_type": "code",
      "source": [
        "print(response)"
      ],
      "metadata": {
        "colab": {
          "base_uri": "https://localhost:8080/"
        },
        "id": "HyLQFI4erDvH",
        "outputId": "c821d893-5f6a-479a-cda7-5ef4dec74275"
      },
      "execution_count": 28,
      "outputs": [
        {
          "output_type": "stream",
          "name": "stdout",
          "text": [
            "response:\n",
            "GenerateContentResponse(\n",
            "    done=True,\n",
            "    iterator=None,\n",
            "    result=protos.GenerateContentResponse({\n",
            "      \"candidates\": [\n",
            "        {\n",
            "          \"content\": {\n",
            "            \"parts\": [\n",
            "              {\n",
            "                \"text\": \"That's the big question, isn't it? There's no single, universally accepted answer to \\\"What is life?\\\" because it's a complex concept viewed from multiple perspectives. Here's a breakdown of some common approaches:\\n\\n**1. Biological Perspective:**\\n\\n* **Key Characteristics:** Biologists define life based on a set of characteristics shared by living organisms. These often include:\\n    * **Organization:** Living things are highly organized, with specific structures and functions, from cells to organs to entire organisms.\\n    * **Metabolism:** They take in energy and nutrients and convert them into usable forms.\\n    * **Growth:** They increase in size and complexity over time.\\n    * **Reproduction:** They can produce offspring, passing on genetic information.\\n    * **Response to Stimuli:** They react to changes in their environment.\\n    * **Adaptation:** They evolve over generations, adapting to changing conditions.\\n    * **Homeostasis:** They maintain a stable internal environment.\\n* **Defining \\\"Living\\\" vs. \\\"Non-Living\\\":** From this perspective, something is considered alive if it exhibits all of these characteristics. This allows us to distinguish between a living tree and a rock, for example.\\n* **Limitations:** This definition can be challenged by things like viruses, which seem to lack some of these characteristics (like independent metabolism) but are considered \\\"alive\\\" in some contexts.\\n\\n**2. Philosophical Perspective:**\\n\\n* **Focus on Meaning and Purpose:** Philosophers delve deeper into the essence of life, considering questions like:\\n    * What is the meaning of life?\\n    * What is our purpose?\\n    * What is the nature of consciousness?\\n    * What is the difference between living and simply existing?\\n* **Multiple Interpretations:** Philosophical interpretations vary widely, from nihilism (life is inherently meaningless) to existentialism (meaning is created by individuals) to spiritual and religious beliefs (life is part of a larger divine plan).\\n* **Subjective Nature:** The philosophical view often acknowledges the subjective experience of life, the feelings, emotions, and personal narratives that shape our understanding of what it means to be alive.\\n\\n**3. Scientific Exploration:**\\n\\n* **Emerging Fields:** Science continues to push the boundaries of understanding life through fields like:\\n    * **Astrobiology:** Investigating the possibility of life beyond Earth.\\n    * **Synthetic Biology:** Creating artificial biological systems.\\n    * **Artificial Intelligence:** Exploring the potential for non-biological intelligence.\\n* **Expanding Definition:** As science advances, our understanding of what constitutes life might evolve. For example, AI might challenge our assumptions about consciousness.\\n\\n**4. Experiential Perspective:**\\n\\n* **Personal Understanding:** Ultimately, each individual develops their own understanding of what life means based on their experiences, relationships, and beliefs.\\n* **Subjective and Dynamic:** This view emphasizes that life is not a static concept but rather a continuously unfolding process of learning, growth, and change.\\n\\n**In Summary:**\\n\\nLife is a multifaceted concept with no single, definitive answer. It can be approached through:\\n\\n* **Biology:** Defining life based on observable characteristics.\\n* **Philosophy:** Exploring the meaning and purpose of life.\\n* **Science:** Investigating the origins and potential for life beyond what we currently understand.\\n* **Personal Experience:** Developing individual interpretations of what it means to be alive.\\n\\n**Why is it so hard to define?**\\n\\n* **Complexity:** Life is incredibly complex, and we are still unraveling its mysteries.\\n* **Dynamic Nature:** Life is constantly evolving, making it hard to capture in a static definition.\\n* **Subjectivity:** Our perspectives are often shaped by our experiences and beliefs.\\n\\n**Instead of searching for a single definition, it may be more fruitful to consider the question as an ongoing exploration, a journey of understanding ourselves and the world around us.**\\n\\nWhat are your thoughts on this? What does life mean to you? It's a question worth pondering and discussing!\\n\"\n",
            "              }\n",
            "            ],\n",
            "            \"role\": \"model\"\n",
            "          },\n",
            "          \"finish_reason\": \"STOP\",\n",
            "          \"safety_ratings\": [\n",
            "            {\n",
            "              \"category\": \"HARM_CATEGORY_HATE_SPEECH\",\n",
            "              \"probability\": \"NEGLIGIBLE\"\n",
            "            },\n",
            "            {\n",
            "              \"category\": \"HARM_CATEGORY_DANGEROUS_CONTENT\",\n",
            "              \"probability\": \"NEGLIGIBLE\"\n",
            "            },\n",
            "            {\n",
            "              \"category\": \"HARM_CATEGORY_HARASSMENT\",\n",
            "              \"probability\": \"NEGLIGIBLE\"\n",
            "            },\n",
            "            {\n",
            "              \"category\": \"HARM_CATEGORY_SEXUALLY_EXPLICIT\",\n",
            "              \"probability\": \"NEGLIGIBLE\"\n",
            "            }\n",
            "          ],\n",
            "          \"avg_logprobs\": -0.5119574660978121\n",
            "        }\n",
            "      ],\n",
            "      \"usage_metadata\": {\n",
            "        \"prompt_token_count\": 5,\n",
            "        \"candidates_token_count\": 827,\n",
            "        \"total_token_count\": 832\n",
            "      }\n",
            "    }),\n",
            ")\n"
          ]
        }
      ]
    },
    {
      "cell_type": "markdown",
      "source": [
        "Here we are printing our response in plain text form."
      ],
      "metadata": {
        "id": "izNE3JuBvt4V"
      }
    },
    {
      "cell_type": "code",
      "source": [
        "print(response.text)"
      ],
      "metadata": {
        "colab": {
          "base_uri": "https://localhost:8080/"
        },
        "id": "TIs5jynZvyAR",
        "outputId": "ac144a42-d46f-47aa-9677-7bb695373cb1"
      },
      "execution_count": 35,
      "outputs": [
        {
          "output_type": "stream",
          "name": "stdout",
          "text": [
            "That's the big question, isn't it? There's no single, universally accepted answer to \"What is life?\" because it's a complex concept viewed from multiple perspectives. Here's a breakdown of some common approaches:\n",
            "\n",
            "**1. Biological Perspective:**\n",
            "\n",
            "* **Key Characteristics:** Biologists define life based on a set of characteristics shared by living organisms. These often include:\n",
            "    * **Organization:** Living things are highly organized, with specific structures and functions, from cells to organs to entire organisms.\n",
            "    * **Metabolism:** They take in energy and nutrients and convert them into usable forms.\n",
            "    * **Growth:** They increase in size and complexity over time.\n",
            "    * **Reproduction:** They can produce offspring, passing on genetic information.\n",
            "    * **Response to Stimuli:** They react to changes in their environment.\n",
            "    * **Adaptation:** They evolve over generations, adapting to changing conditions.\n",
            "    * **Homeostasis:** They maintain a stable internal environment.\n",
            "* **Defining \"Living\" vs. \"Non-Living\":** From this perspective, something is considered alive if it exhibits all of these characteristics. This allows us to distinguish between a living tree and a rock, for example.\n",
            "* **Limitations:** This definition can be challenged by things like viruses, which seem to lack some of these characteristics (like independent metabolism) but are considered \"alive\" in some contexts.\n",
            "\n",
            "**2. Philosophical Perspective:**\n",
            "\n",
            "* **Focus on Meaning and Purpose:** Philosophers delve deeper into the essence of life, considering questions like:\n",
            "    * What is the meaning of life?\n",
            "    * What is our purpose?\n",
            "    * What is the nature of consciousness?\n",
            "    * What is the difference between living and simply existing?\n",
            "* **Multiple Interpretations:** Philosophical interpretations vary widely, from nihilism (life is inherently meaningless) to existentialism (meaning is created by individuals) to spiritual and religious beliefs (life is part of a larger divine plan).\n",
            "* **Subjective Nature:** The philosophical view often acknowledges the subjective experience of life, the feelings, emotions, and personal narratives that shape our understanding of what it means to be alive.\n",
            "\n",
            "**3. Scientific Exploration:**\n",
            "\n",
            "* **Emerging Fields:** Science continues to push the boundaries of understanding life through fields like:\n",
            "    * **Astrobiology:** Investigating the possibility of life beyond Earth.\n",
            "    * **Synthetic Biology:** Creating artificial biological systems.\n",
            "    * **Artificial Intelligence:** Exploring the potential for non-biological intelligence.\n",
            "* **Expanding Definition:** As science advances, our understanding of what constitutes life might evolve. For example, AI might challenge our assumptions about consciousness.\n",
            "\n",
            "**4. Experiential Perspective:**\n",
            "\n",
            "* **Personal Understanding:** Ultimately, each individual develops their own understanding of what life means based on their experiences, relationships, and beliefs.\n",
            "* **Subjective and Dynamic:** This view emphasizes that life is not a static concept but rather a continuously unfolding process of learning, growth, and change.\n",
            "\n",
            "**In Summary:**\n",
            "\n",
            "Life is a multifaceted concept with no single, definitive answer. It can be approached through:\n",
            "\n",
            "* **Biology:** Defining life based on observable characteristics.\n",
            "* **Philosophy:** Exploring the meaning and purpose of life.\n",
            "* **Science:** Investigating the origins and potential for life beyond what we currently understand.\n",
            "* **Personal Experience:** Developing individual interpretations of what it means to be alive.\n",
            "\n",
            "**Why is it so hard to define?**\n",
            "\n",
            "* **Complexity:** Life is incredibly complex, and we are still unraveling its mysteries.\n",
            "* **Dynamic Nature:** Life is constantly evolving, making it hard to capture in a static definition.\n",
            "* **Subjectivity:** Our perspectives are often shaped by our experiences and beliefs.\n",
            "\n",
            "**Instead of searching for a single definition, it may be more fruitful to consider the question as an ongoing exploration, a journey of understanding ourselves and the world around us.**\n",
            "\n",
            "What are your thoughts on this? What does life mean to you? It's a question worth pondering and discussing!\n",
            "\n"
          ]
        }
      ]
    },
    {
      "cell_type": "markdown",
      "source": [
        "Now we are experimenting with a few things we discovered."
      ],
      "metadata": {
        "id": "WPSrafX7v24w"
      }
    },
    {
      "cell_type": "code",
      "source": [
        "print(response.usage_metadata.prompt_token_count)"
      ],
      "metadata": {
        "colab": {
          "base_uri": "https://localhost:8080/"
        },
        "id": "fVzx6X2UrkrD",
        "outputId": "bd312513-d14a-4a5f-ed22-76f6a22f1774"
      },
      "execution_count": 32,
      "outputs": [
        {
          "output_type": "stream",
          "name": "stdout",
          "text": [
            "5\n"
          ]
        }
      ]
    },
    {
      "cell_type": "code",
      "source": [
        "dir(genai)"
      ],
      "metadata": {
        "colab": {
          "base_uri": "https://localhost:8080/"
        },
        "id": "8UfQ4hpKsw8t",
        "outputId": "35250c63-c886-490b-aeaa-6d59a1c9d40d"
      },
      "execution_count": 33,
      "outputs": [
        {
          "output_type": "execute_result",
          "data": {
            "text/plain": [
              "['ChatSession',\n",
              " 'GenerationConfig',\n",
              " 'GenerativeModel',\n",
              " '__builtins__',\n",
              " '__cached__',\n",
              " '__doc__',\n",
              " '__file__',\n",
              " '__loader__',\n",
              " '__name__',\n",
              " '__package__',\n",
              " '__path__',\n",
              " '__spec__',\n",
              " '__version__',\n",
              " 'annotations',\n",
              " 'caching',\n",
              " 'configure',\n",
              " 'create_tuned_model',\n",
              " 'delete_file',\n",
              " 'delete_tuned_model',\n",
              " 'embed_content',\n",
              " 'embed_content_async',\n",
              " 'get_base_model',\n",
              " 'get_file',\n",
              " 'get_model',\n",
              " 'get_operation',\n",
              " 'get_tuned_model',\n",
              " 'list_files',\n",
              " 'list_models',\n",
              " 'list_operations',\n",
              " 'list_tuned_models',\n",
              " 'protos',\n",
              " 'responder',\n",
              " 'string_utils',\n",
              " 'types',\n",
              " 'update_tuned_model',\n",
              " 'upload_file',\n",
              " 'utils']"
            ]
          },
          "metadata": {},
          "execution_count": 33
        }
      ]
    },
    {
      "cell_type": "markdown",
      "source": [],
      "metadata": {
        "id": "awCYHjKsjOYt"
      }
    },
    {
      "cell_type": "code",
      "source": [
        "dir(genai.list_models)"
      ],
      "metadata": {
        "colab": {
          "base_uri": "https://localhost:8080/"
        },
        "id": "uXUriRfItGcb",
        "outputId": "5d715f65-bc27-4c01-ce6e-589a660beb9c"
      },
      "execution_count": 34,
      "outputs": [
        {
          "output_type": "execute_result",
          "data": {
            "text/plain": [
              "['__annotations__',\n",
              " '__builtins__',\n",
              " '__call__',\n",
              " '__class__',\n",
              " '__closure__',\n",
              " '__code__',\n",
              " '__defaults__',\n",
              " '__delattr__',\n",
              " '__dict__',\n",
              " '__dir__',\n",
              " '__doc__',\n",
              " '__eq__',\n",
              " '__format__',\n",
              " '__ge__',\n",
              " '__get__',\n",
              " '__getattribute__',\n",
              " '__getstate__',\n",
              " '__globals__',\n",
              " '__gt__',\n",
              " '__hash__',\n",
              " '__init__',\n",
              " '__init_subclass__',\n",
              " '__kwdefaults__',\n",
              " '__le__',\n",
              " '__lt__',\n",
              " '__module__',\n",
              " '__name__',\n",
              " '__ne__',\n",
              " '__new__',\n",
              " '__qualname__',\n",
              " '__reduce__',\n",
              " '__reduce_ex__',\n",
              " '__repr__',\n",
              " '__setattr__',\n",
              " '__sizeof__',\n",
              " '__str__',\n",
              " '__subclasshook__']"
            ]
          },
          "metadata": {},
          "execution_count": 34
        }
      ]
    },
    {
      "cell_type": "code",
      "source": [],
      "metadata": {
        "id": "fwUq3LUCtLGS"
      },
      "execution_count": null,
      "outputs": []
    }
  ]
}